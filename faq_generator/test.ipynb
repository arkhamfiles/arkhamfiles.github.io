{
 "cells": [
  {
   "cell_type": "code",
   "execution_count": 1,
   "metadata": {},
   "outputs": [],
   "source": [
    "from pathlib import Path\n",
    "from typing import Dict, List, Any\n",
    "import json\n",
    "import re\n",
    "from google.oauth2.service_account import Credentials\n",
    "from googleapiclient.discovery import build, Resource\n",
    "from googleapiclient.http import HttpRequest\n",
    "from googleapiclient.errors import HttpError"
   ]
  },
  {
   "cell_type": "code",
   "execution_count": 2,
   "metadata": {},
   "outputs": [],
   "source": [
    "path_token = Path(\"../api_key.json\")\n",
    "SCOPES = ['https://www.googleapis.com/auth/spreadsheets.readonly']\n",
    "if not path_token.exists():\n",
    "    raise FileNotFoundError(path_token)\n",
    "with path_token.open(encoding='utf-8') as f:\n",
    "    service_account_info = json.load(f)\n",
    "creds = Credentials.from_service_account_info(service_account_info, scopes=SCOPES)\n",
    "sheet_id = service_account_info['spreadsheet_id']"
   ]
  },
  {
   "cell_type": "code",
   "execution_count": 3,
   "metadata": {},
   "outputs": [
    {
     "name": "stdout",
     "output_type": "stream",
     "text": [
      "<googleapiclient.discovery.Resource object at 0x000001A13C7233D0>\n"
     ]
    }
   ],
   "source": [
    "try:\n",
    "    service: Resource = build('sheets', 'v4', credentials=creds)\n",
    "    print(service)\n",
    "    sheets: Resource = service.spreadsheets()\n",
    "    sheet_info: List[Dict[str, Dict[str, str]]] = sheets.get(spreadsheetId=sheet_id, includeGridData=False, fields=\"sheets.properties(title)\").execute()['sheets']\n",
    "    sheets_name = [x['properties']['title'] for x in sheet_info]\n",
    "    if 'Note' in sheets_name:\n",
    "        sheets_name.remove('Note')\n",
    "    \n",
    "except HttpError as err:\n",
    "    print(err)"
   ]
  },
  {
   "cell_type": "code",
   "execution_count": 4,
   "metadata": {},
   "outputs": [],
   "source": [
    "response = sheets.get(\n",
    "    spreadsheetId=sheet_id,\n",
    "    ranges=[sheets_name[2]],\n",
    "    includeGridData=True,\n",
    "    fields=\"sheets/data/rowData/values/userEnteredValue,sheets/data/rowData/values/userEnteredFormat/backgroundColorStyle/rgbColor\"\n",
    ").execute()"
   ]
  },
  {
   "cell_type": "code",
   "execution_count": 5,
   "metadata": {},
   "outputs": [],
   "source": [
    "regex_faq = re.compile(r\"(?:https://https://arkhamfiles.github.io/)?(?:faq.html)?#?FAQ([0-9]+)\")"
   ]
  },
  {
   "cell_type": "code",
   "execution_count": 6,
   "metadata": {},
   "outputs": [
    {
     "name": "stdout",
     "output_type": "stream",
     "text": [
      "dict_keys(['rowData'])\n",
      "dict_keys(['userEnteredValue'])\n",
      "\n",
      "row 1 with {'stringValue': '한국어판 미해당'}\n",
      "unnecessary row, color: {'red': 0.95686275, 'green': 0.8, 'blue': 0.8}\n",
      "\n",
      "row 2 with {'formulaValue': \"='코'!G183\"}\n",
      "linked row, formular:  ='코'!G183\n",
      "\n",
      "row 3 with {'stringValue': 'https://arkhamfiles.github.io/faq.html#FAQ40'}\n",
      "FAQ link request, FAQ number is 40\n",
      "\n",
      "row 5 with {'stringValue': '‘렉스 머피’는 덱에 <b><i>행운</b></i> 카드를 포함할 수 없습니다. 유의하세요.'}\n",
      "\n"
     ]
    }
   ],
   "source": [
    "### cell checking test\n",
    "data = response['sheets'][0]['data'][0]\n",
    "print(data.keys(), data['rowData'][0]['values'][0].keys(), '', sep='\\n')\n",
    "for i in [1, 2, 3, 5]:\n",
    "    rowdata = data['rowData'][i]['values']\n",
    "    print(f\"row {i} with {rowdata[6]['userEnteredValue']}\")\n",
    "    if 'userEnteredFormat' in rowdata[6] and 'backgroundColorStyle' in rowdata[6]['userEnteredFormat']:\n",
    "        bc = rowdata[6]['userEnteredFormat']['backgroundColorStyle']['rgbColor']\n",
    "        if bc['red'] > bc['green'] * 1.05 and bc['red'] > bc['blue'] * 1.05:\n",
    "            print(\"unnecessary row, color:\", bc)\n",
    "    if 'formulaValue' in rowdata[6]['userEnteredValue']:\n",
    "        print(\"linked row, formular: \", rowdata[6]['userEnteredValue']['formulaValue'])\n",
    "    else:\n",
    "        match = regex_faq.search(rowdata[6]['userEnteredValue']['stringValue'])\n",
    "        if match is not None:\n",
    "            print(\"FAQ link request, FAQ number is\", match.group(1))\n",
    "    print()"
   ]
  },
  {
   "cell_type": "code",
   "execution_count": 15,
   "metadata": {},
   "outputs": [
    {
     "name": "stdout",
     "output_type": "stream",
     "text": [
      "1\n",
      "stringValue ‘렉스 머피’는 덱에 <b><i>행운</b></i> 카드를 포함할 수 없습니다. 유의하세요.\n"
     ]
    }
   ],
   "source": [
    "key, value = next(iter(rowdata[6]['userEnteredValue'].items()))\n",
    "print(len(rowdata[6]['userEnteredValue']))\n",
    "print(key, value)"
   ]
  },
  {
   "cell_type": "code",
   "execution_count": 7,
   "metadata": {},
   "outputs": [],
   "source": [
    "response = sheets.get(\n",
    "    spreadsheetId=sheet_id,\n",
    "    ranges=sheets_name,\n",
    "    includeGridData=True,\n",
    "    fields=\"sheets/data/rowData/values/userEnteredValue,sheets/data/rowData/values/userEnteredFormat/backgroundColorStyle/rgbColor\"\n",
    ").execute()"
   ]
  },
  {
   "cell_type": "code",
   "execution_count": 19,
   "metadata": {},
   "outputs": [
    {
     "name": "stdout",
     "output_type": "stream",
     "text": [
      "('faq', '#FAQ23', None)\n"
     ]
    }
   ],
   "source": [
    "regex = re.compile(\n",
    "    r\"(?:https://arkhamfiles.github.io/)?([a-zA-Z]+).html(#[a-zA-Z0-9_]+)(%[0-9]+)?\"\n",
    ")\n",
    "\n",
    "text = \"https://arkhamfiles.github.io/faq.html#FAQ23\"\n",
    "match = regex.fullmatch(text)\n",
    "print(match.groups() if match is not None else '')\n",
    "\n",
    "text = \"https://arkhamfiles.github.io/faq.html#FAQ23\"\n",
    "match = regex.fullmatch(text)\n",
    "print(match.groups() if match is not None else '')"
   ]
  },
  {
   "cell_type": "code",
   "execution_count": null,
   "metadata": {},
   "outputs": [],
   "source": []
  }
 ],
 "metadata": {
  "kernelspec": {
   "display_name": "Python 3",
   "language": "python",
   "name": "python3"
  },
  "language_info": {
   "codemirror_mode": {
    "name": "ipython",
    "version": 3
   },
   "file_extension": ".py",
   "mimetype": "text/x-python",
   "name": "python",
   "nbconvert_exporter": "python",
   "pygments_lexer": "ipython3",
   "version": "3.10.8"
  },
  "orig_nbformat": 4
 },
 "nbformat": 4,
 "nbformat_minor": 2
}
