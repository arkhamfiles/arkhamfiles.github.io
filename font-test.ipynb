{
 "cells": [
  {
   "cell_type": "code",
   "execution_count": 114,
   "metadata": {},
   "outputs": [],
   "source": [
    "from typing import List, Dict\n",
    "import json\n",
    "from pathlib import Path\n",
    "from fontTools import ttLib\n",
    "from fontTools.ttLib.tables._c_m_a_p import CmapSubtable\n",
    "from fontTools.pens.ttGlyphPen import TTGlyphPen\n",
    "from fontTools import svgLib"
   ]
  },
  {
   "cell_type": "code",
   "execution_count": 49,
   "metadata": {},
   "outputs": [],
   "source": [
    "path_info = Path('svgs/info.json')\n",
    "path_save = Path('fonts/test.ttf')"
   ]
  },
  {
   "cell_type": "code",
   "execution_count": 93,
   "metadata": {},
   "outputs": [
    {
     "name": "stdout",
     "output_type": "stream",
     "text": [
      "fonts\\arkham-symbols.ttf\n",
      "{49: 'nc', 50: 'hw', 51: 'wh', 52: 'jf', 53: 'sc', 54: 'par', 65: 'rtnotz', 66: 'rtdl', 67: 'rtptc', 68: 'rtfa', 69: 'rtcu', 72: 'eoec', 97: 'core', 98: 'tdl', 99: 'tptc', 100: 'tfa', 101: 'tcu', 102: 'tde', 103: 'tic', 104: 'eoep'}\n",
      "['GlyphOrder', 'head', 'hhea', 'maxp', 'OS/2', 'hmtx', 'cmap', 'cvt ', 'loca', 'glyf', 'name', 'post', 'gasp', 'FFTM']\n",
      "\n",
      "fonts\\arkham-symbols.otf\n",
      "{49: 'nc', 50: 'hw', 51: 'wh', 52: 'jf', 53: 'sc', 54: 'par', 65: 'rtnotz', 66: 'rtdl', 67: 'rtptc', 68: 'rtfa', 69: 'rtcu', 72: 'eoec', 97: 'core', 98: 'tdl', 99: 'tptc', 100: 'tfa', 101: 'tcu', 102: 'tde', 103: 'tic', 104: 'eoep'}\n",
      "['GlyphOrder', 'head', 'hhea', 'maxp', 'OS/2', 'name', 'cmap', 'post', 'CFF ', 'FFTM', 'hmtx']\n",
      "\n",
      "fonts\\arkham-symbols.woff\n",
      "{49: 'nc', 50: 'hw', 51: 'wh', 52: 'jf', 53: 'sc', 54: 'par', 65: 'rtnotz', 66: 'rtdl', 67: 'rtptc', 68: 'rtfa', 69: 'rtcu', 72: 'eoec', 97: 'core', 98: 'tdl', 99: 'tptc', 100: 'tfa', 101: 'tcu', 102: 'tde', 103: 'tic', 104: 'eoep'}\n",
      "['GlyphOrder', 'head', 'hhea', 'maxp', 'OS/2', 'name', 'cmap', 'post', 'CFF ', 'FFTM', 'hmtx']\n",
      "\n"
     ]
    }
   ],
   "source": [
    "for ext in ['.ttf', '.otf', '.woff']:\n",
    "    path_example = Path('fonts/arkham-symbols').with_suffix(ext)\n",
    "    fonts_ex = ttLib.TTFont(\n",
    "        path_example, lazy=False,\n",
    "        sfntVersion=\"\\000\\001\\000\\000\" if ext=='.ttf' else \"OTTO\",\n",
    "        flavor = 'woff' if ext=='.woff' else None\n",
    "    )\n",
    "    cmap = fonts_ex.getBestCmap()\n",
    "    print(path_example)\n",
    "    print(cmap)\n",
    "    print(fonts_ex.keys())\n",
    "    print()"
   ]
  },
  {
   "cell_type": "code",
   "execution_count": 42,
   "metadata": {},
   "outputs": [
    {
     "name": "stdout",
     "output_type": "stream",
     "text": [
      "{'char': 'a', 'name': 'core', 'path': '01_NZ.svg'}\n"
     ]
    }
   ],
   "source": [
    "with path_info.open(encoding='utf-8') as filept:\n",
    "    data: List[Dict[str, str]] = json.load(filept)\n",
    "print(data[0])"
   ]
  },
  {
   "cell_type": "code",
   "execution_count": 44,
   "metadata": {},
   "outputs": [],
   "source": [
    "sfntVersion = \"\\000\\001\\000\\000\"\n",
    "flavor = None\n",
    "\n",
    "font = ttLib.TTFont(sfntVersion=sfntVersion, flavor=flavor)"
   ]
  },
  {
   "cell_type": "code",
   "execution_count": 105,
   "metadata": {},
   "outputs": [],
   "source": [
    "cmap = ttLib.newTable(\"cmap\")\n",
    "cmap.tableVersion = 0\n",
    "cmap.tables = []\n",
    "for info in data:\n",
    "    cmap_ = CmapSubtable.newSubtable(12)\n",
    "    cmap_.platformID = 0\n",
    "    cmap_.platEncID = 4\n",
    "    cmap_.language = 0\n",
    "    cmap_.cmap = {ord(info['char']): info['name']}\n",
    "    \n",
    "    cmap.tables.append(cmap_)"
   ]
  },
  {
   "cell_type": "code",
   "execution_count": 106,
   "metadata": {},
   "outputs": [],
   "source": [
    "name = ttLib.newTable(\"name\")\n",
    "name.setName(\"ⓒFantasy Flight Publishing, Inc and 2023 (주)코리아보드게임즈. All Right Reserved.\", 0, 0, 4, 0)\n",
    "name.setName(\"arkham symbols\", 1, 0, 4, 0)\n",
    "name.setName(\"regular\", 2, 0, 4, 0)\n",
    "name.setName(\"Version 1.0 Feb 24 2023\", 5, 0, 4, 0)\n",
    "name.setName(\"This font is the merge from the Arkham horror: Card Game and is a trademark of Fantasy Flight Games.\", 7, 0, 4, 0)"
   ]
  },
  {
   "cell_type": "code",
   "execution_count": 115,
   "metadata": {},
   "outputs": [
    {
     "ename": "NotImplementedError",
     "evalue": "",
     "output_type": "error",
     "traceback": [
      "\u001b[1;31m---------------------------------------------------------------------------\u001b[0m",
      "\u001b[1;31mNotImplementedError\u001b[0m                       Traceback (most recent call last)",
      "Cell \u001b[1;32mIn[115], line 10\u001b[0m\n\u001b[0;32m      8\u001b[0m svg \u001b[39m=\u001b[39m svgLib\u001b[39m.\u001b[39mpath\u001b[39m.\u001b[39mSVGPath(path)\n\u001b[0;32m      9\u001b[0m pen \u001b[39m=\u001b[39m TTGlyphPen({\u001b[39mord\u001b[39m(info[\u001b[39m'\u001b[39m\u001b[39mchar\u001b[39m\u001b[39m'\u001b[39m]): name})\n\u001b[1;32m---> 10\u001b[0m svg\u001b[39m.\u001b[39;49mdraw(pen)\n\u001b[0;32m     11\u001b[0m glyph \u001b[39m=\u001b[39m pen\u001b[39m.\u001b[39mglyph()\n\u001b[0;32m     13\u001b[0m hmtx[name] \u001b[39m=\u001b[39m (\u001b[39m1000\u001b[39m, \u001b[39m0\u001b[39m)\n",
      "File \u001b[1;32mc:\\Users\\Chungkeun Lee\\AppData\\Local\\Programs\\Python\\Python310\\lib\\site-packages\\fontTools\\svgLib\\path\\__init__.py:61\u001b[0m, in \u001b[0;36mSVGPath.draw\u001b[1;34m(self, pen)\u001b[0m\n\u001b[0;32m     59\u001b[0m \u001b[39melse\u001b[39;00m:\n\u001b[0;32m     60\u001b[0m     pen \u001b[39m=\u001b[39m original_pen\n\u001b[1;32m---> 61\u001b[0m parse_path(path, pen)\n",
      "File \u001b[1;32mc:\\Users\\Chungkeun Lee\\AppData\\Local\\Programs\\Python\\Python310\\lib\\site-packages\\fontTools\\svgLib\\path\\parser.py:213\u001b[0m, in \u001b[0;36mparse_path\u001b[1;34m(pathdef, pen, current_pos, arc_class)\u001b[0m\n\u001b[0;32m    210\u001b[0m     control2 \u001b[39m+\u001b[39m\u001b[39m=\u001b[39m current_pos\n\u001b[0;32m    211\u001b[0m     end \u001b[39m+\u001b[39m\u001b[39m=\u001b[39m current_pos\n\u001b[1;32m--> 213\u001b[0m pen\u001b[39m.\u001b[39;49mcurveTo((control1\u001b[39m.\u001b[39;49mreal, control1\u001b[39m.\u001b[39;49mimag),\n\u001b[0;32m    214\u001b[0m             (control2\u001b[39m.\u001b[39;49mreal, control2\u001b[39m.\u001b[39;49mimag),\n\u001b[0;32m    215\u001b[0m             (end\u001b[39m.\u001b[39;49mreal, end\u001b[39m.\u001b[39;49mimag))\n\u001b[0;32m    216\u001b[0m current_pos \u001b[39m=\u001b[39m end\n\u001b[0;32m    217\u001b[0m last_control \u001b[39m=\u001b[39m control2\n",
      "File \u001b[1;32mc:\\Users\\Chungkeun Lee\\AppData\\Local\\Programs\\Python\\Python310\\lib\\site-packages\\fontTools\\pens\\ttGlyphPen.py:189\u001b[0m, in \u001b[0;36mTTGlyphPen.curveTo\u001b[1;34m(self, *points)\u001b[0m\n\u001b[0;32m    188\u001b[0m \u001b[39mdef\u001b[39;00m \u001b[39mcurveTo\u001b[39m(\u001b[39mself\u001b[39m, \u001b[39m*\u001b[39mpoints) \u001b[39m-\u001b[39m\u001b[39m>\u001b[39m \u001b[39mNone\u001b[39;00m:\n\u001b[1;32m--> 189\u001b[0m     \u001b[39mraise\u001b[39;00m \u001b[39mNotImplementedError\u001b[39;00m\n",
      "\u001b[1;31mNotImplementedError\u001b[0m: "
     ]
    }
   ],
   "source": [
    "glyf = ttLib.newTable('glyf')\n",
    "hmtx = ttLib.newTable('hmtx')\n",
    "hmtx.metrics = {}\n",
    "\n",
    "for info in data:\n",
    "    name = info['name']\n",
    "    path = path_info.parent / info['path']\n",
    "    svg = svgLib.path.SVGPath(path)\n",
    "    pen = TTGlyphPen({ord(info['char']): name})\n",
    "    svg.draw(pen)\n",
    "    glyph = pen.glyph()\n",
    "    \n",
    "    hmtx[name] = (1000, 0)\n",
    "    glyf[name] = glyph"
   ]
  },
  {
   "cell_type": "code",
   "execution_count": null,
   "metadata": {},
   "outputs": [],
   "source": []
  }
 ],
 "metadata": {
  "kernelspec": {
   "display_name": "Python 3",
   "language": "python",
   "name": "python3"
  },
  "language_info": {
   "codemirror_mode": {
    "name": "ipython",
    "version": 3
   },
   "file_extension": ".py",
   "mimetype": "text/x-python",
   "name": "python",
   "nbconvert_exporter": "python",
   "pygments_lexer": "ipython3",
   "version": "3.10.7 (tags/v3.10.7:6cc6b13, Sep  5 2022, 14:08:36) [MSC v.1933 64 bit (AMD64)]"
  },
  "orig_nbformat": 4,
  "vscode": {
   "interpreter": {
    "hash": "cdfb4e57e2c095588c71ef08183d33e9226768305a693b2c6446ebb68c25c670"
   }
  }
 },
 "nbformat": 4,
 "nbformat_minor": 2
}
