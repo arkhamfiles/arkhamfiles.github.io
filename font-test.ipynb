{
 "cells": [
  {
   "cell_type": "code",
   "execution_count": 43,
   "metadata": {},
   "outputs": [],
   "source": [
    "import json\n",
    "import re\n",
    "from pathlib import Path\n",
    "from subprocess import run\n",
    "from fontTools.ttLib.ttFont import TTFont\n",
    "from fontTools.pens.ttGlyphPen import TTGlyphPen\n",
    "from fontTools.pens.boundsPen import BoundsPen\n",
    "from fontTools.pens.transformPen import TransformPen\n",
    "from fontTools.misc import transform\n",
    "from fontTools import svgLib"
   ]
  },
  {
   "cell_type": "code",
   "execution_count": 44,
   "metadata": {},
   "outputs": [],
   "source": [
    "path_info = Path('svgs/info.json')\n",
    "path_xml = Path('svgs/default.ttx')\n",
    "path_save = Path('testfont/result')"
   ]
  },
  {
   "cell_type": "code",
   "execution_count": 45,
   "metadata": {},
   "outputs": [],
   "source": [
    "path_save.parent.mkdir(exist_ok=True)"
   ]
  },
  {
   "cell_type": "code",
   "execution_count": 46,
   "metadata": {},
   "outputs": [
    {
     "name": "stdout",
     "output_type": "stream",
     "text": [
      "('0.000000', '352.000000', '0.100000', '-0.100000') translate(0.000000,352.000000) scale(0.100000,-0.100000)\n"
     ]
    }
   ],
   "source": [
    "with path_info.open() as file:\n",
    "    data = json.loads(file.read())\n",
    "\n",
    "info = data[-1]\n",
    "path = path_info.parent / info['path']\n",
    "svg = svgLib.path.SVGPath(path)\n",
    "data = svg.root.find(\"{http://www.w3.org/2000/svg}g\")\n",
    "tr = data.get('transform')\n",
    "if tr is not None:\n",
    "    number = r'([+-]?[0-9]+\\.[0-9]+)'\n",
    "    matchtxt = re.compile(r'translate\\('+number+r','+number+r'\\) scale\\('+number+r','+number+r'\\)')\n",
    "    match = matchtxt.match(tr)\n",
    "    print(match.groups(), tr)"
   ]
  },
  {
   "cell_type": "code",
   "execution_count": 47,
   "metadata": {},
   "outputs": [
    {
     "name": "stdout",
     "output_type": "stream",
     "text": [
      " 33.00, 298.00,   0.00, 666.00\n",
      "  0.00,   0.00,   0.00,   0.00\n",
      "  0.00,   0.00,   0.00,   0.00\n",
      "107.00, 893.00, -100.00, 700.00\n",
      "101.00, 899.00, -100.00, 700.00\n",
      " 89.00, 911.00, -100.00, 700.00\n",
      "100.00, 900.00, -100.00, 700.00\n",
      "224.00, 777.00, -103.00, 700.00\n",
      "100.00, 900.00, -100.00, 700.00\n",
      " 40.00, 960.00, -101.00, 700.00\n",
      "100.00, 900.00, -100.00, 700.00\n",
      " 14.00, 979.00,  45.00, 563.00\n",
      " 92.00, 908.00, -100.00, 702.00\n",
      " 73.00, 927.00, -100.00, 701.00\n",
      "217.00, 783.00, -100.00, 700.00\n",
      "115.00, 884.00, -101.00, 700.00\n",
      " 85.00, 914.00, -102.00, 700.00\n",
      " 71.00, 926.00, -110.00, 702.00\n",
      "151.00, 859.00, -101.00, 700.00\n",
      "141.00, 860.00, -101.00, 700.00\n",
      " 20.00, 975.00, -98.00, 695.00\n",
      "148.00, 851.00, -105.00, 701.00\n",
      " 25.00, 975.00, -63.00, 660.00\n",
      " 96.00, 902.00, -100.00, 707.00\n",
      "229.00, 771.00, -104.00, 701.00\n"
     ]
    }
   ],
   "source": [
    "## generate truetype font using fonttools\n",
    "font = TTFont(sfntVersion=\"\\x00\\x01\\x00\\x00\", flavor=False)\n",
    "font.importXML(path_xml)\n",
    "\n",
    "with path_info.open() as file:\n",
    "    data = json.loads(file.read())\n",
    "\n",
    "sample_text = ''\n",
    "for info in data:\n",
    "    name = info['name']\n",
    "    path = path_info.parent / info['path']\n",
    "    svg = svgLib.path.SVGPath(path)\n",
    "    data = svg.root.find(\"{http://www.w3.org/2000/svg}g\")\n",
    "    if data is not None and data.get('transform', None) is not None:\n",
    "        tr = data.get('transform', None)\n",
    "        number = r'([+-]?[0-9]+\\.[0-9]+)'\n",
    "        matchtxt = re.compile(r'translate\\('+number+r','+number+r'\\) scale\\('+number+r','+number+r'\\)')\n",
    "        match = matchtxt.match(tr)\n",
    "        match = tuple(map(float, match.groups()))\n",
    "        svg.transform = transform.Identity.translate(match[0], match[1]).scale(match[2], match[3])    \n",
    "    bpen = BoundsPen(None)\n",
    "    svg.draw(bpen)\n",
    "    xMin, yMin, xMax, yMax = bpen.bounds\n",
    "    scale = min(950/(xMax-xMin), 800/(yMax-yMin))\n",
    "    dx = (500 - 0.5*scale*(xMin+xMax))\n",
    "    dy = (500 + 0.5*scale*(yMin+yMax))\n",
    "    tf = transform.Identity.translate(dx, dy).scale(scale, -scale)\n",
    "    pen = TTGlyphPen({ord(info['char']): name})\n",
    "    if svg.transform is None:\n",
    "        svg.transform = tf\n",
    "    else:\n",
    "        svg.transform = tf.transform(svg.transform)\n",
    "    svg.transform = transform.Identity.translate(0, -200).transform(svg.transform)\n",
    "    svg.draw(pen)\n",
    "    glyph = pen.glyph()\n",
    "    glyph.trim()\n",
    "    font['glyf'][name] = glyph\n",
    "    for cmap in font['cmap'].tables:\n",
    "        cmap.cmap[ord(info['char'])] = name\n",
    "    sample_text += info['char']\n",
    "font['name'].addName(sample_text, ((0, 3, 0x0), (1, 0, 0x0), (3, 1, 0x0409)), 18)\n",
    "\n",
    "for name, glyph in font['glyf'].glyphs.items():\n",
    "    glyph.recalcBounds(font)\n",
    "    print(f\"{glyph.xMin:6.2f}, {glyph.xMax:6.2f}, {glyph.yMin:6.2f}, {glyph.yMax:6.2f}\")\n",
    "    glyph.xMin = max(0, glyph.xMin)\n",
    "    glyph.yMin = max(0, glyph.yMin)\n",
    "    glyph.xMax = min(950, glyph.xMax)\n",
    "    glyph.yMax = min(950, glyph.yMax)\n",
    "    if name in font['hmtx'].metrics:\n",
    "        continue\n",
    "    font['hmtx'][name] = 950, glyph.xMin\n",
    "\n",
    "font.setGlyphOrder(font['glyf'].glyphOrder)\n",
    "\n",
    "for table in font.tables.values():\n",
    "    if hasattr(table, 'compile'):\n",
    "        table.compile(font)\n",
    "    \n",
    "font.save(path_save.with_suffix('.ttf'))\n",
    "font.saveXML(path_save.with_suffix('.ttx'))"
   ]
  },
  {
   "cell_type": "code",
   "execution_count": 48,
   "metadata": {},
   "outputs": [],
   "source": [
    "## convert other types based on truetype\n",
    "try:\n",
    "    run(['ftcli', 'converter', 'ttf2otf', path_save.with_suffix('.ttf')], capture_output=True)\n",
    "    (path_save.parent / \"result_raw.ttf\").unlink(missing_ok=True)\n",
    "    (path_save.parent / \"result_raw.ttx\").unlink(missing_ok=True)\n",
    "    path_save.with_suffix(\".ttf\").rename(path_save.parent / \"result_raw.ttf\")\n",
    "    path_save.with_suffix(\".ttx\").rename(path_save.parent / \"result_raw.ttx\")\n",
    "    run(['ftcli', 'converter', 'otf2ttf', path_save.with_suffix('.otf')], capture_output=True) # better output\n",
    "    run(['ftcli', 'converter', 'ft2wf', '-f', 'woff', path_save.with_suffix('.ttf')], capture_output=True)\n",
    "    run(['ftcli', 'converter', 'ft2wf', '-f', 'woff2', path_save.with_suffix('.ttf')], capture_output=True)\n",
    "    with TTFont(path_save.with_suffix(\".ttf\")) as font:\n",
    "        font.saveXML(path_save.parent / \"result.ttx\")\n",
    "except FileNotFoundError:\n",
    "    print(\"Cannot find font-cli. Please install ftCLI using pip install font-cli\")"
   ]
  },
  {
   "cell_type": "code",
   "execution_count": null,
   "metadata": {},
   "outputs": [],
   "source": []
  }
 ],
 "metadata": {
  "kernelspec": {
   "display_name": "Python 3",
   "language": "python",
   "name": "python3"
  },
  "language_info": {
   "codemirror_mode": {
    "name": "ipython",
    "version": 3
   },
   "file_extension": ".py",
   "mimetype": "text/x-python",
   "name": "python",
   "nbconvert_exporter": "python",
   "pygments_lexer": "ipython3",
   "version": "3.10.7"
  },
  "orig_nbformat": 4,
  "vscode": {
   "interpreter": {
    "hash": "cdfb4e57e2c095588c71ef08183d33e9226768305a693b2c6446ebb68c25c670"
   }
  }
 },
 "nbformat": 4,
 "nbformat_minor": 2
}
