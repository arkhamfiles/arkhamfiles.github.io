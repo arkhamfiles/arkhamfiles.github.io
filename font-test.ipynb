{
 "cells": [
  {
   "cell_type": "code",
   "execution_count": 1,
   "metadata": {},
   "outputs": [],
   "source": [
    "from typing import List, Dict\n",
    "import json\n",
    "from pathlib import Path\n",
    "from fontTools import ttLib\n",
    "from fontTools.ttLib.tables._c_m_a_p import CmapSubtable\n",
    "from fontTools.pens.ttGlyphPen import TTGlyphPen\n",
    "from fontTools import svgLib"
   ]
  },
  {
   "cell_type": "code",
   "execution_count": 2,
   "metadata": {},
   "outputs": [],
   "source": [
    "path_info = Path('svgs/info.json')\n",
    "path_save = Path('fonts/test.ttf')"
   ]
  },
  {
   "cell_type": "code",
   "execution_count": 3,
   "metadata": {},
   "outputs": [
    {
     "name": "stdout",
     "output_type": "stream",
     "text": [
      "fonts\\arkham-symbols.ttf\n",
      "{49: 'nc', 50: 'hw', 51: 'wh', 52: 'jf', 53: 'sc', 54: 'par', 65: 'rtnotz', 66: 'rtdl', 67: 'rtptc', 68: 'rtfa', 69: 'rtcu', 72: 'eoec', 97: 'core', 98: 'tdl', 99: 'tptc', 100: 'tfa', 101: 'tcu', 102: 'tde', 103: 'tic', 104: 'eoep'}\n",
      "['GlyphOrder', 'head', 'hhea', 'maxp', 'OS/2', 'hmtx', 'cmap', 'cvt ', 'loca', 'glyf', 'name', 'post', 'gasp', 'FFTM']\n",
      "\n",
      "fonts\\arkham-symbols.otf\n",
      "{49: 'nc', 50: 'hw', 51: 'wh', 52: 'jf', 53: 'sc', 54: 'par', 65: 'rtnotz', 66: 'rtdl', 67: 'rtptc', 68: 'rtfa', 69: 'rtcu', 72: 'eoec', 97: 'core', 98: 'tdl', 99: 'tptc', 100: 'tfa', 101: 'tcu', 102: 'tde', 103: 'tic', 104: 'eoep'}\n",
      "['GlyphOrder', 'head', 'hhea', 'maxp', 'OS/2', 'name', 'cmap', 'post', 'CFF ', 'FFTM', 'hmtx']\n",
      "\n",
      "fonts\\arkham-symbols.woff\n",
      "{49: 'nc', 50: 'hw', 51: 'wh', 52: 'jf', 53: 'sc', 54: 'par', 65: 'rtnotz', 66: 'rtdl', 67: 'rtptc', 68: 'rtfa', 69: 'rtcu', 72: 'eoec', 97: 'core', 98: 'tdl', 99: 'tptc', 100: 'tfa', 101: 'tcu', 102: 'tde', 103: 'tic', 104: 'eoep'}\n",
      "['GlyphOrder', 'head', 'hhea', 'maxp', 'OS/2', 'name', 'cmap', 'post', 'CFF ', 'FFTM', 'hmtx']\n",
      "\n"
     ]
    }
   ],
   "source": [
    "for ext in ['.ttf', '.otf', '.woff']:\n",
    "    path_example = Path('fonts/arkham-symbols').with_suffix(ext)\n",
    "    fonts_ex = ttLib.TTFont(\n",
    "        path_example, lazy=False,\n",
    "        sfntVersion=\"\\000\\001\\000\\000\" if ext=='.ttf' else \"OTTO\",\n",
    "        flavor = 'woff' if ext=='.woff' else None\n",
    "    )\n",
    "    cmap = fonts_ex.getBestCmap()\n",
    "    print(path_example)\n",
    "    print(cmap)\n",
    "    print(fonts_ex.keys())\n",
    "    print()"
   ]
  },
  {
   "cell_type": "code",
   "execution_count": 52,
   "metadata": {},
   "outputs": [
    {
     "name": "stdout",
     "output_type": "stream",
     "text": [
      "['.notdef', '.null', 'nonmarkingreturn', 'nc', 'hw', 'wh', 'jf', 'sc', 'par', 'rtnotz', 'rtdl', 'rtptc', 'rtfa', 'rtcu', 'eoec', 'core', 'tdl', 'tptc', 'tfa', 'tcu', 'tde', 'tic', 'eoep']\n",
      "{'.notdef': <fontTools.ttLib.tables._g_l_y_f.Glyph object at 0x000001E22CB47490>, '.null': <fontTools.ttLib.tables._g_l_y_f.Glyph object at 0x000001E22CB47400>, 'nonmarkingreturn': <fontTools.ttLib.tables._g_l_y_f.Glyph object at 0x000001E22CB473D0>, 'nc': <fontTools.ttLib.tables._g_l_y_f.Glyph object at 0x000001E22CB47370>, 'hw': <fontTools.ttLib.tables._g_l_y_f.Glyph object at 0x000001E22CB47250>, 'wh': <fontTools.ttLib.tables._g_l_y_f.Glyph object at 0x000001E22CB47220>, 'jf': <fontTools.ttLib.tables._g_l_y_f.Glyph object at 0x000001E22CB45DB0>, 'sc': <fontTools.ttLib.tables._g_l_y_f.Glyph object at 0x000001E22CB47AC0>, 'par': <fontTools.ttLib.tables._g_l_y_f.Glyph object at 0x000001E22CB475B0>, 'rtnotz': <fontTools.ttLib.tables._g_l_y_f.Glyph object at 0x000001E22CB45120>, 'rtdl': <fontTools.ttLib.tables._g_l_y_f.Glyph object at 0x000001E22CB47040>, 'rtptc': <fontTools.ttLib.tables._g_l_y_f.Glyph object at 0x000001E22CB470D0>, 'rtfa': <fontTools.ttLib.tables._g_l_y_f.Glyph object at 0x000001E22CB45B10>, 'rtcu': <fontTools.ttLib.tables._g_l_y_f.Glyph object at 0x000001E22CB46EF0>, 'eoec': <fontTools.ttLib.tables._g_l_y_f.Glyph object at 0x000001E22CB470A0>, 'core': <fontTools.ttLib.tables._g_l_y_f.Glyph object at 0x000001E22CB46EC0>, 'tdl': <fontTools.ttLib.tables._g_l_y_f.Glyph object at 0x000001E22CB46F80>, 'tptc': <fontTools.ttLib.tables._g_l_y_f.Glyph object at 0x000001E22CB45D50>, 'tfa': <fontTools.ttLib.tables._g_l_y_f.Glyph object at 0x000001E22CB467A0>, 'tcu': <fontTools.ttLib.tables._g_l_y_f.Glyph object at 0x000001E22CB47550>, 'tde': <fontTools.ttLib.tables._g_l_y_f.Glyph object at 0x000001E22CB47730>, 'tic': <fontTools.ttLib.tables._g_l_y_f.Glyph object at 0x000001E22CB47700>, 'eoep': <fontTools.ttLib.tables._g_l_y_f.Glyph object at 0x000001E22CB47610>}\n"
     ]
    }
   ],
   "source": [
    "path_example = Path('fonts/arkham-symbols').with_suffix('.ttf')\n",
    "fonts_ex = ttLib.TTFont(\n",
    "    path_example, lazy=False,\n",
    "    sfntVersion=\"\\000\\001\\000\\000\" if ext=='.ttf' else \"OTTO\",\n",
    "    flavor = 'woff' if ext=='.woff' else None\n",
    ")\n",
    "table = fonts_ex['glyf']\n",
    "print(table.glyphOrder)\n",
    "print(table.glyphs)"
   ]
  },
  {
   "cell_type": "code",
   "execution_count": 66,
   "metadata": {},
   "outputs": [
    {
     "name": "stdout",
     "output_type": "stream",
     "text": [
      ".notdef\t33\t298\t0\t666\n",
      ".null \t\tNULL\n",
      "nonmarkingreturn \t\tNULL\n",
      "nc\t-1\t901\t-202\t801\n",
      "hw\t-1\t1205\t-209\t804\n",
      "wh\t-4\t878\t-203\t803\n",
      "jf\t-1\t1322\t-206\t801\n",
      "sc\t0\t1005\t-200\t803\n",
      "par\t181\t718\t-93\t702\n",
      "rtnotz\t1\t999\t-200\t800\n",
      "rtdl\t0\t1000\t-200\t800\n",
      "rtptc\t0\t1000\t-201\t801\n",
      "rtfa\t0\t1000\t-200\t800\n",
      "rtcu\t69\t942\t-108\t758\n",
      "eoec\t116\t916\t-27\t748\n",
      "core\t8\t991\t-200\t801\n",
      "tdl\t0\t1000\t-188\t788\n",
      "tptc\t153\t849\t-201\t800\n",
      "tfa\t-1\t1001\t-130\t742\n",
      "tcu\t-1\t1003\t33\t586\n",
      "tde\t0\t1001\t-167\t773\n",
      "tic\t146\t854\t-200\t800\n",
      "eoep\t84\t888\t-118\t721\n"
     ]
    }
   ],
   "source": [
    "# fonts_ex['maxp'].recalc(fonts_ex)\n",
    "for name, glyph in table.glyphs.items():\n",
    "    try:\n",
    "        print(name, glyph.xMin, glyph.xMax, glyph.yMin, glyph.yMax, sep='\\t')\n",
    "    except:\n",
    "        print(name, '\\t\\tNULL')"
   ]
  },
  {
   "cell_type": "code",
   "execution_count": 4,
   "metadata": {},
   "outputs": [
    {
     "name": "stdout",
     "output_type": "stream",
     "text": [
      "{'char': 'a', 'name': 'core', 'path': '01_NZ.svg'}\n"
     ]
    }
   ],
   "source": [
    "with path_info.open(encoding='utf-8') as filept:\n",
    "    data: List[Dict[str, str]] = json.load(filept)\n",
    "print(data[0])"
   ]
  },
  {
   "cell_type": "code",
   "execution_count": 22,
   "metadata": {},
   "outputs": [],
   "source": [
    "maxp = ttLib.newTable('maxp')\n",
    "loca = ttLib.newTable('loca')\n",
    "ccf = ttLib.newTable('CCF ')\n",
    "ccf2 = ttLib.newTable('CCF2')\n",
    "head = ttLib.newTable('head')\n"
   ]
  },
  {
   "cell_type": "code",
   "execution_count": 28,
   "metadata": {},
   "outputs": [],
   "source": [
    "# truetype\n",
    "sfntVersion = \"\\000\\001\\000\\000\"\n",
    "flavor = None\n",
    "\n",
    "font = ttLib.TTFont(sfntVersion=sfntVersion, flavor=flavor, lazy=False)\n",
    "for name in ['glyf', 'hmtx', 'name', 'cmap', 'maxp', 'head', 'maxp', 'head']:\n",
    "    font[name] = ttLib.newTable(name)"
   ]
  },
  {
   "cell_type": "code",
   "execution_count": 29,
   "metadata": {},
   "outputs": [],
   "source": [
    "cmap = font['cmap']\n",
    "cmap.tableVersion = 0\n",
    "cmap.tables = []\n",
    "for info in data:\n",
    "    cmap_ = CmapSubtable.newSubtable(12)\n",
    "    cmap_.platformID = 0\n",
    "    cmap_.platEncID = 4\n",
    "    cmap_.language = 0\n",
    "    cmap_.cmap = {ord(info['char']): info['name']}\n",
    "    \n",
    "    cmap.tables.append(cmap_)"
   ]
  },
  {
   "cell_type": "code",
   "execution_count": 30,
   "metadata": {},
   "outputs": [],
   "source": [
    "name = font['name']\n",
    "name.setName(\"ⓒFantasy Flight Publishing, Inc and 2023 (주)코리아보드게임즈. All Right Reserved.\", 0, 0, 4, 0)\n",
    "name.setName(\"arkham symbols\", 1, 0, 4, 0)\n",
    "name.setName(\"regular\", 2, 0, 4, 0)\n",
    "name.setName(\"Version 1.0 Feb 24 2023\", 5, 0, 4, 0)\n",
    "name.setName(\"This font is the merge from the Arkham horror: Card Game and is a trademark of Fantasy Flight Games.\", 7, 0, 4, 0)"
   ]
  },
  {
   "cell_type": "code",
   "execution_count": 39,
   "metadata": {},
   "outputs": [],
   "source": [
    "glyf = font['glyf']\n",
    "glyf.glyphs = {}\n",
    "glyf.glyphOrder = []\n",
    "hmtx = font['hmtx']\n",
    "hmtx.metrics = {}\n",
    "\n",
    "for info in data:\n",
    "    name = info['name']\n",
    "    path = path_info.parent / info['path']\n",
    "    svg = svgLib.path.SVGPath(path)\n",
    "    pen = TTGlyphPen({ord(info['char']): name})\n",
    "    svg.draw(pen)\n",
    "    glyph = pen.glyph()\n",
    "    \n",
    "    hmtx[name] = (1000, 0)\n",
    "    glyf[name] = glyph\n",
    "font.setGlyphOrder(glyf.glyphOrder)"
   ]
  },
  {
   "cell_type": "code",
   "execution_count": 54,
   "metadata": {},
   "outputs": [
    {
     "name": "stdout",
     "output_type": "stream",
     "text": [
      "{'core': <fontTools.ttLib.tables._g_l_y_f.Glyph object at 0x000001E22C536EF0>, 'rtnotz': <fontTools.ttLib.tables._g_l_y_f.Glyph object at 0x000001E22C535390>, 'tdl': <fontTools.ttLib.tables._g_l_y_f.Glyph object at 0x000001E22C5356F0>, 'rtdl': <fontTools.ttLib.tables._g_l_y_f.Glyph object at 0x000001E22C74B5E0>, 'tptc': <fontTools.ttLib.tables._g_l_y_f.Glyph object at 0x000001E22C749120>, 'rtptc': <fontTools.ttLib.tables._g_l_y_f.Glyph object at 0x000001E22C74BA90>, 'tfa': <fontTools.ttLib.tables._g_l_y_f.Glyph object at 0x000001E22C74B7F0>, 'rtfa': <fontTools.ttLib.tables._g_l_y_f.Glyph object at 0x000001E22C74B850>, 'tcu': <fontTools.ttLib.tables._g_l_y_f.Glyph object at 0x000001E22C74B010>, 'rtcu': <fontTools.ttLib.tables._g_l_y_f.Glyph object at 0x000001E22C74B4F0>, 'tde': <fontTools.ttLib.tables._g_l_y_f.Glyph object at 0x000001E22C7493C0>, 'tic': <fontTools.ttLib.tables._g_l_y_f.Glyph object at 0x000001E22C74AE60>, 'eoep': <fontTools.ttLib.tables._g_l_y_f.Glyph object at 0x000001E22C7494E0>, 'eoec': <fontTools.ttLib.tables._g_l_y_f.Glyph object at 0x000001E22C74AF20>, 'nc': <fontTools.ttLib.tables._g_l_y_f.Glyph object at 0x000001E22C74B100>, 'hw': <fontTools.ttLib.tables._g_l_y_f.Glyph object at 0x000001E22C749300>, 'wh': <fontTools.ttLib.tables._g_l_y_f.Glyph object at 0x000001E22C7489D0>, 'jf': <fontTools.ttLib.tables._g_l_y_f.Glyph object at 0x000001E22C748760>, 'sc': <fontTools.ttLib.tables._g_l_y_f.Glyph object at 0x000001E22C7486D0>, 'par': <fontTools.ttLib.tables._g_l_y_f.Glyph object at 0x000001E22C7485B0>}\n",
      "['core', 'rtnotz', 'tdl', 'rtdl', 'tptc', 'rtptc', 'tfa', 'rtfa', 'tcu', 'rtcu', 'tde', 'tic', 'eoep', 'eoec', 'nc', 'hw', 'wh', 'jf', 'sc', 'par']\n"
     ]
    }
   ],
   "source": [
    "print(glyf.glyphs)\n",
    "print(glyf.glyphOrder)"
   ]
  },
  {
   "cell_type": "code",
   "execution_count": 55,
   "metadata": {},
   "outputs": [
    {
     "ename": "AttributeError",
     "evalue": "'Glyph' object has no attribute 'xMin'",
     "output_type": "error",
     "traceback": [
      "\u001b[1;31m---------------------------------------------------------------------------\u001b[0m",
      "\u001b[1;31mAttributeError\u001b[0m                            Traceback (most recent call last)",
      "Cell \u001b[1;32mIn[55], line 4\u001b[0m\n\u001b[0;32m      2\u001b[0m maxp\u001b[39m.\u001b[39mnumGlyphs \u001b[39m=\u001b[39m \u001b[39mlen\u001b[39m(glyf\u001b[39m.\u001b[39mglyphOrder)\n\u001b[0;32m      3\u001b[0m maxp\u001b[39m.\u001b[39mtableVersion \u001b[39m=\u001b[39m \u001b[39m0x00010000\u001b[39m\n\u001b[1;32m----> 4\u001b[0m maxp\u001b[39m.\u001b[39;49mrecalc(font)\n",
      "File \u001b[1;32mc:\\Users\\Chungkeun Lee\\AppData\\Local\\Programs\\Python\\Python310\\lib\\site-packages\\fontTools\\ttLib\\tables\\_m_a_x_p.py:78\u001b[0m, in \u001b[0;36mtable__m_a_x_p.recalc\u001b[1;34m(self, ttFont)\u001b[0m\n\u001b[0;32m     76\u001b[0m g \u001b[39m=\u001b[39m glyfTable[glyphName]\n\u001b[0;32m     77\u001b[0m \u001b[39mif\u001b[39;00m g\u001b[39m.\u001b[39mnumberOfContours:\n\u001b[1;32m---> 78\u001b[0m     \u001b[39mif\u001b[39;00m hmtxTable[glyphName][\u001b[39m1\u001b[39m] \u001b[39m!=\u001b[39m g\u001b[39m.\u001b[39;49mxMin:\n\u001b[0;32m     79\u001b[0m         allXMinIsLsb \u001b[39m=\u001b[39m \u001b[39m0\u001b[39m\n\u001b[0;32m     80\u001b[0m     xMin \u001b[39m=\u001b[39m \u001b[39mmin\u001b[39m(xMin, g\u001b[39m.\u001b[39mxMin)\n",
      "\u001b[1;31mAttributeError\u001b[0m: 'Glyph' object has no attribute 'xMin'"
     ]
    }
   ],
   "source": [
    "maxp = font['maxp']\n",
    "maxp.numGlyphs = len(glyf.glyphOrder)\n",
    "maxp.tableVersion = 0x00010000\n",
    "maxp.recalc(font)"
   ]
  },
  {
   "cell_type": "code",
   "execution_count": null,
   "metadata": {},
   "outputs": [],
   "source": []
  }
 ],
 "metadata": {
  "kernelspec": {
   "display_name": "Python 3",
   "language": "python",
   "name": "python3"
  },
  "language_info": {
   "codemirror_mode": {
    "name": "ipython",
    "version": 3
   },
   "file_extension": ".py",
   "mimetype": "text/x-python",
   "name": "python",
   "nbconvert_exporter": "python",
   "pygments_lexer": "ipython3",
   "version": "3.10.7"
  },
  "orig_nbformat": 4,
  "vscode": {
   "interpreter": {
    "hash": "cdfb4e57e2c095588c71ef08183d33e9226768305a693b2c6446ebb68c25c670"
   }
  }
 },
 "nbformat": 4,
 "nbformat_minor": 2
}
